{
 "cells": [
  {
   "cell_type": "code",
   "execution_count": 1,
   "id": "0f72c608",
   "metadata": {},
   "outputs": [],
   "source": [
    "#!pip install ipython-sql\n",
    "%load_ext sql"
   ]
  },
  {
   "cell_type": "code",
   "execution_count": 2,
   "id": "f6a907a1",
   "metadata": {},
   "outputs": [],
   "source": [
    "\n",
    "import csv, sqlite3\n",
    "\n",
    "con = sqlite3.connect(\"student_analysis.db\")\n",
    "cur = con.cursor()"
   ]
  },
  {
   "cell_type": "code",
   "execution_count": 3,
   "id": "4ad2e074",
   "metadata": {},
   "outputs": [],
   "source": [
    "%sql sqlite:///student_analysis.db"
   ]
  },
  {
   "cell_type": "code",
   "execution_count": 4,
   "id": "89b584fd",
   "metadata": {},
   "outputs": [],
   "source": [
    "import pandas as pd\n",
    "df = pd.read_csv(\"sda.csv\")"
   ]
  },
  {
   "cell_type": "code",
   "execution_count": 5,
   "id": "10239c45",
   "metadata": {},
   "outputs": [
    {
     "data": {
      "text/plain": [
       "27901"
      ]
     },
     "execution_count": 5,
     "metadata": {},
     "output_type": "execute_result"
    }
   ],
   "source": [
    "df.to_sql(\"Student_Data\",con,if_exists='replace',index=False)"
   ]
  },
  {
   "cell_type": "code",
   "execution_count": 6,
   "id": "75249097",
   "metadata": {},
   "outputs": [
    {
     "name": "stdout",
     "output_type": "stream",
     "text": [
      "(2, 'Male', 33.0, 'Visakhapatnam', 'Student', 5.0, 0.0, 8.97, 2.0, 0.0, '5-6 hours', 'Healthy', 'B.Pharm', 'Yes', 3.0, 1.0, 'No', 1)\n",
      "(8, 'Female', 24.0, 'Bangalore', 'Student', 2.0, 0.0, 5.9, 5.0, 0.0, '5-6 hours', 'Moderate', 'BSc', 'No', 3.0, 2.0, 'Yes', 0)\n",
      "(26, 'Male', 31.0, 'Srinagar', 'Student', 3.0, 0.0, 7.03, 5.0, 0.0, 'Less than 5 hours', 'Healthy', 'BA', 'No', 9.0, 1.0, 'Yes', 0)\n",
      "(30, 'Female', 28.0, 'Varanasi', 'Student', 3.0, 0.0, 5.59, 2.0, 0.0, '7-8 hours', 'Moderate', 'BCA', 'Yes', 4.0, 5.0, 'Yes', 1)\n",
      "(32, 'Female', 25.0, 'Jaipur', 'Student', 4.0, 0.0, 8.13, 3.0, 0.0, '5-6 hours', 'Moderate', 'M.Tech', 'Yes', 1.0, 1.0, 'No', 0)\n"
     ]
    }
   ],
   "source": [
    "cur.execute(\"SELECT * FROM Student_Data LIMIT 5\")\n",
    "rows = cur.fetchall()\n",
    "for row in rows:\n",
    "    print(row)"
   ]
  },
  {
   "cell_type": "code",
   "execution_count": 7,
   "id": "7fb0ae6a",
   "metadata": {},
   "outputs": [
    {
     "name": "stdout",
     "output_type": "stream",
     "text": [
      "Total number of students with a family history of mental illness: 0\n"
     ]
    }
   ],
   "source": [
    "cur.execute('SELECT COUNT(*) FROM Student_Data WHERE \"Family History of Mental Illness\" = 1')\n",
    "\n",
    "# Fetch the result\n",
    "count = cur.fetchone()[0]  # Extracting the count from tuple\n",
    "print(\"Total number of students with a family history of mental illness:\", count)"
   ]
  },
  {
   "cell_type": "code",
   "execution_count": 8,
   "id": "4433ad50",
   "metadata": {},
   "outputs": [],
   "source": [
    "con.commit()"
   ]
  },
  {
   "cell_type": "code",
   "execution_count": 9,
   "id": "51c66382",
   "metadata": {},
   "outputs": [],
   "source": [
    "con.close()\n"
   ]
  }
 ],
 "metadata": {
  "kernelspec": {
   "display_name": "Python 3 (ipykernel)",
   "language": "python",
   "name": "python3"
  },
  "language_info": {
   "codemirror_mode": {
    "name": "ipython",
    "version": 3
   },
   "file_extension": ".py",
   "mimetype": "text/x-python",
   "name": "python",
   "nbconvert_exporter": "python",
   "pygments_lexer": "ipython3",
   "version": "3.11.5"
  }
 },
 "nbformat": 4,
 "nbformat_minor": 5
}
