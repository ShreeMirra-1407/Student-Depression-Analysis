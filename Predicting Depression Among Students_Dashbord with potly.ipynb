{
 "cells": [
  {
   "cell_type": "code",
   "execution_count": 1,
   "id": "686af8d2",
   "metadata": {},
   "outputs": [
    {
     "data": {
      "text/html": [
       "\n",
       "        <iframe\n",
       "            width=\"100%\"\n",
       "            height=\"650\"\n",
       "            src=\"http://127.0.0.1:8050/\"\n",
       "            frameborder=\"0\"\n",
       "            allowfullscreen\n",
       "            \n",
       "        ></iframe>\n",
       "        "
      ],
      "text/plain": [
       "<IPython.lib.display.IFrame at 0x1de71697150>"
      ]
     },
     "metadata": {},
     "output_type": "display_data"
    }
   ],
   "source": [
    "import pandas as pd\n",
    "import plotly.express as px\n",
    "import dash\n",
    "from dash import dcc,html,dcc, callback\n",
    "\n",
    "df = pd.read_csv(\"sda.csv\")\n",
    "\n",
    "app = dash.Dash(__name__)\n",
    "\n",
    "app.layout = html.Div([\n",
    "    html.H1(\"Student Depression Analysis Dashboard\"),\n",
    "    html.Div([\n",
    "        dcc.Dropdown(\n",
    "            id='x-axis-dropdown',\n",
    "            options=[{'label': col, 'value': col} for col in df.columns],\n",
    "            value=df.columns[0],  # Default value for x-axis\n",
    "            style={'width': '48%', 'display': 'inline-block'}\n",
    "        ),\n",
    "        dcc.Dropdown(\n",
    "            id='y-axis-dropdown',\n",
    "            options=[{'label': col, 'value': col} for col in df.columns],\n",
    "            value=df.columns[1],  # Default value for y-axis\n",
    "            style={'width': '48%', 'display': 'inline-block', 'margin-left': '10px'}\n",
    "        )\n",
    "    ]),\n",
    "    dcc.Graph(id='scatter-plot')\n",
    "])\n",
    "\n",
    "@app.callback(\n",
    "    dash.dependencies.Output('scatter-plot', 'figure'),\n",
    "    [dash.dependencies.Input('x-axis-dropdown', 'value'),\n",
    "     dash.dependencies.Input('y-axis-dropdown', 'value')]\n",
    ")\n",
    "def update_graph(selected_x, selected_y):\n",
    "    fig = px.scatter(df, x=selected_x, y=selected_y, title=f'Scatter Plot of {selected_x} vs {selected_y}')\n",
    "    return fig\n",
    "\n",
    "if __name__ == '__main__':\n",
    "    app.run_server(debug=True)\n"
   ]
  },
  {
   "cell_type": "code",
   "execution_count": null,
   "id": "a8c73660",
   "metadata": {},
   "outputs": [],
   "source": []
  }
 ],
 "metadata": {
  "kernelspec": {
   "display_name": "Python 3 (ipykernel)",
   "language": "python",
   "name": "python3"
  },
  "language_info": {
   "codemirror_mode": {
    "name": "ipython",
    "version": 3
   },
   "file_extension": ".py",
   "mimetype": "text/x-python",
   "name": "python",
   "nbconvert_exporter": "python",
   "pygments_lexer": "ipython3",
   "version": "3.11.5"
  }
 },
 "nbformat": 4,
 "nbformat_minor": 5
}
